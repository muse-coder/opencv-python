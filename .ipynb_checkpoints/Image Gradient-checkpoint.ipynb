{
 "cells": [
  {
   "cell_type": "code",
   "execution_count": 3,
   "metadata": {},
   "outputs": [],
   "source": [
    "#https://www.cnblogs.com/zodiac7/p/9285975.html\n",
    "import  cv2\n",
    "import numpy as np\n",
    "img=cv2.imread(\"pictures/lena.jpg\",0)\n",
    "# cv2.imshow(\"1\",img)\n",
    "sobelx=cv2.Sobel(img,cv2.CV_64F,1,0,ksize=3)\n",
    "sobelxx=cv2.convertScaleAbs(sobelx)\n",
    "# cv2.imshow(\"sobelx\",sobelxx)\n",
    "\n",
    "sobely=cv2.Sobel(img,cv2.CV_64F,0,1,ksize=3)\n",
    "sobelyy=cv2.convertScaleAbs(sobely)\n",
    "# cv2.imshow(\"sobely\",sobelyy)\n",
    "sobelxy=cv2.addWeighted(sobelxx,0.5,sobelyy,0.5,0)\n",
    "# cv2.imshow(\"sobelxy\",sobelxy)\n",
    "scharrx=cv2.Scharr(img,cv2.CV_64F,1,0)\n",
    "scharry=cv2.Scharr(img,cv2.CV_64F,0,1)\n",
    "scharrxx=cv2.convertScaleAbs(scharrx)\n",
    "scharryy=cv2.convertScaleAbs(scharry)\n",
    "# cv2.imshow(\"scharrx\",scharrxx)\n",
    "# cv2.imshow(\"scharry\",scharryy)\n",
    "scharrxy=cv2.addWeighted(scharrxx,0.5,scharryy,0.5,0)\n",
    "res=np.hstack((img,sobelxy,scharrxy))\n",
    "cv2.imshow(\"res\",res)\n",
    "cv2.waitKey(0)\n",
    "cv2.destroyAllWindows()"
   ]
  },
  {
   "cell_type": "code",
   "execution_count": null,
   "metadata": {},
   "outputs": [],
   "source": []
  }
 ],
 "metadata": {
  "kernelspec": {
   "display_name": "Python 3",
   "language": "python",
   "name": "python3"
  },
  "language_info": {
   "codemirror_mode": {
    "name": "ipython",
    "version": 3
   },
   "file_extension": ".py",
   "mimetype": "text/x-python",
   "name": "python",
   "nbconvert_exporter": "python",
   "pygments_lexer": "ipython3",
   "version": "3.6.5"
  }
 },
 "nbformat": 4,
 "nbformat_minor": 4
}
