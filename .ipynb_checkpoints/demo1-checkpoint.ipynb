{
 "cells": [
  {
   "cell_type": "code",
   "execution_count": 15,
   "metadata": {},
   "outputs": [],
   "source": [
    "import cv2\n",
    "import numpy as np\n",
    "import myutils\n",
    "def cv_show(name,img):\n",
    "    cv2.imshow(name,img)\n",
    "    cv2.waitKey(0)\n",
    "    cv2.destroyAllWindows()\n",
    "img=cv2.imread(\"pictures/ocr_a_reference.png\")\n",
    "#灰度图\n",
    "ref=cv2.cvtColor(img,cv2.COLOR_BGR2GRAY)\n",
    "cv_show(\"gray\",ref)\n",
    "# 二值图像\n",
    "ref=cv2.threshold(ref,10,255,cv2.THRESH_BINARY_INV)[1]\n",
    "cv_show(\"template_bi\",ref)"
   ]
  },
  {
   "cell_type": "markdown",
   "metadata": {},
   "source": [
    " 【二、模板处理流程】: 轮廓检测, 外接矩形, 抠出模板, 让模板对应每个数值\n",
    "1.计算轮廓\n",
    "cv2.findContours()函数接受的参数为二值图，即黑白的（不是灰度图）,\n",
    "\tcv2.RETR_EXTERNAL只检测外轮廓，\n",
    "\tcv2.CHAIN_APPROX_SIMPLE只保留终点坐标\n",
    "\t返回的list中每个元素都是图像中的一个轮廓"
   ]
  },
  {
   "cell_type": "code",
   "execution_count": 16,
   "metadata": {},
   "outputs": [
    {
     "name": "stdout",
     "output_type": "stream",
     "text": [
      "(10,)\n"
     ]
    }
   ],
   "source": [
    "refCnts = cv2.findContours(ref.copy(),cv2.RETR_EXTERNAL,cv2.CHAIN_APPROX_SIMPLE)[1]\n",
    "img = cv2.drawContours(img,refCnts,-1,(0,255,0),2)\t# 轮廓在二值图上得到, 画是画在原图上\n",
    "cv_show('template_Contours',img)\n",
    "print (np.array(refCnts).shape)\t# 10个轮廓,所以是10\n",
    "refCnts = myutils.sort_contours(refCnts,method=\"left-to-right\")[0]\n",
    "digits = {}\n",
    "# print(refCnts)"
   ]
  },
  {
   "cell_type": "code",
   "execution_count": 17,
   "metadata": {},
   "outputs": [],
   "source": [
    "for(i,c) in enumerate(refCnts):# c是每个轮廓的终点坐标\n",
    "    # 计算外接矩形并且resize成合适大小\n",
    "    (x,y,w,h)=cv2.boundingRect(c)\n",
    "    # 3.抠出模板\n",
    "    roi=ref[y:y+h,x:x+w] ## 每个roi对应一个数字\n",
    "    roi=cv2.resize(roi,(57,88))\n",
    "    # 4.每一个数字对应每一个模板\n",
    "    digits[i]=roi\n",
    "    cv_show(\"roi\"+str(i),roi)\n"
   ]
  },
  {
   "cell_type": "markdown",
   "metadata": {},
   "source": [
    " 【三、输入图像处理】\n",
    "  形态学操作,礼帽+闭操作可以突出明亮区域,但并不是非得礼帽+闭操作\n"
   ]
  },
  {
   "cell_type": "code",
   "execution_count": 18,
   "metadata": {},
   "outputs": [],
   "source": [
    "#  1.初始化卷积核,根据实际任务指定大小,不一定非要3x3\n",
    "rectKernel = cv2.getStructuringElement(cv2.MORPH_RECT, (9, 3))\n",
    "sqKernel = cv2.getStructuringElement(cv2.MORPH_RECT, (5, 5))\n",
    "onekernel = np.ones((9,9),np.uint8)\n"
   ]
  },
  {
   "cell_type": "code",
   "execution_count": 19,
   "metadata": {},
   "outputs": [],
   "source": [
    "# 2.读取输入图像，预处理\n",
    "image=cv2.imread(\"pictures/credit_card_01.png\")\n",
    "cv_show('Input_img',image)\n",
    "image = myutils.resize(image,width=300)\n",
    "gray = cv2.cvtColor(image,cv2.COLOR_BGR2GRAY)\n",
    "cv_show('Input_gray',gray)"
   ]
  },
  {
   "cell_type": "code",
   "execution_count": 20,
   "metadata": {},
   "outputs": [
    {
     "name": "stdout",
     "output_type": "stream",
     "text": [
      "(189, 300)\n"
     ]
    }
   ],
   "source": [
    "# 3.礼帽操作，突出更明亮的区域\n",
    "tophat = cv2.morphologyEx(gray,cv2.MORPH_TOPHAT,rectKernel)\n",
    "cv_show('Input_tophat',tophat) \n",
    "# 4.x方向的Sobel算子,实验表明,加y的效果的并不好\n",
    "gradX = cv2.Sobel(tophat,cv2.CV_32F,1,0,ksize=3)\t# ksize=-1相当于用3*3的\n",
    "\n",
    "gradX = np.absolute(gradX)\t# absolute: 计算绝对值\n",
    "min_Val,max_val = np.min(gradX),np.max(gradX)\n",
    "gradX = (255*(gradX-min_Val)/(max_val-min_Val))\n",
    "gradX = gradX.astype(\"uint8\")\n",
    "\n",
    "print (np.array(gradX).shape)\n",
    "cv_show('Input_Sobel_gradX',gradX)\n"
   ]
  },
  {
   "cell_type": "code",
   "execution_count": 21,
   "metadata": {},
   "outputs": [],
   "source": [
    "# 5.通过闭操作（先膨胀，再腐蚀）将数字连在一起.  将本是4个数字的4个框膨胀成1个框,就腐蚀不掉了\n",
    "gradX = cv2.morphologyEx(gradX,cv2.MORPH_CLOSE,rectKernel)\n",
    "cv_show('Input_CLOSE_gradX',gradX)\n"
   ]
  },
  {
   "cell_type": "code",
   "execution_count": 22,
   "metadata": {},
   "outputs": [],
   "source": [
    "# 6.THRESH_OTSU会自动寻找合适的阈值，适合双峰，需把阈值参数设置为0\n",
    "thresh = cv2.threshold(gradX,0,255,cv2.THRESH_BINARY|cv2.THRESH_OTSU)[1]\n",
    "cv_show('Input_thresh',thresh)\n"
   ]
  },
  {
   "cell_type": "code",
   "execution_count": 23,
   "metadata": {},
   "outputs": [],
   "source": [
    "\n",
    "# 7.再来一个闭操作,填补空洞\n",
    "thresh = cv2.morphologyEx(thresh,cv2.MORPH_CLOSE,sqKernel)\n",
    "cv_show('Input_thresh_CLOSE',thresh)\n"
   ]
  },
  {
   "cell_type": "code",
   "execution_count": 24,
   "metadata": {},
   "outputs": [],
   "source": [
    "\n",
    "# 8.计算轮廓\n",
    "threshCnts = cv2.findContours(thresh.copy(),cv2.RETR_EXTERNAL,cv2.CHAIN_APPROX_SIMPLE)[1]\n",
    "cur_img = image.copy()\n",
    "cv2.drawContours(cur_img,threshCnts,-1,(0,0,255),2)\n",
    "cv_show('Input_Contours',cur_img)\n"
   ]
  },
  {
   "cell_type": "markdown",
   "metadata": {},
   "source": [
    " 【四、遍历轮廓和数字】"
   ]
  },
  {
   "cell_type": "code",
   "execution_count": 25,
   "metadata": {},
   "outputs": [
    {
     "name": "stdout",
     "output_type": "stream",
     "text": [
      "[(24, 101, 50, 15), (90, 101, 51, 15), (157, 101, 51, 15), (224, 101, 52, 15)]\n"
     ]
    }
   ],
   "source": [
    "# 1.遍历轮廓\n",
    "locs = []# 存符合条件的轮廓\n",
    "for i,c in enumerate(threshCnts):\n",
    "    # 计算矩形\n",
    "    x,y,w,h = cv2.boundingRect(c)\n",
    "\n",
    "    ar = w / float(h)\n",
    "    # 选择合适的区域，根据实际任务来，这里的基本都是四个数字一组\n",
    "    if ar > 2.5 and ar < 4.0:\n",
    "        if (w > 40 and w < 55) and (h > 10 and h < 20):\n",
    "            #符合的留下来\n",
    "            locs.append((x, y, w, h))\n",
    "\n",
    "# 将符合的轮廓从左到右排序\n",
    "locs = sorted(locs,key=lambda x:x[0])\n",
    "print(locs)"
   ]
  },
  {
   "cell_type": "code",
   "execution_count": 26,
   "metadata": {},
   "outputs": [
    {
     "name": "stdout",
     "output_type": "stream",
     "text": [
      "scores： [-4182007.25, -17584746.0, -7006532.5, -5838328.0, 48703036.0, -14565888.0, 14520973.0, -5111222.5, -1669509.75, -1378032.125]\n",
      "scores： [60324688.0, 255238.34375, 33025072.0, 30227486.0, 13670484.0, 12007651.0, 34056056.0, 8450211.0, 9934947.0, 30924364.0]\n",
      "scores： [64481688.0, 3487170.5, 34764428.0, 32162430.0, 10000470.0, 13646384.0, 35208812.0, 7919825.5, 13613242.0, 31187082.0]\n",
      "scores： [60497356.0, 1452328.125, 34448520.0, 31327738.0, 12722555.0, 11564593.0, 35273016.0, 7656688.5, 10062867.0, 29857338.0]\n",
      "groupOutput: ['4', '0', '0', '0']\n",
      "scores： [3673438.5, 56566208.0, 2006193.375, 21624368.0, -17148052.0, 17918516.0, 12853028.0, 5112319.0, 11518306.0, -1578976.375]\n",
      "scores： [35009260.0, 3028461.75, 56035736.0, 33999068.0, -10148370.0, 15457354.0, 10473770.0, 15585214.0, 19673666.0, 3096772.5]\n",
      "scores： [36678912.0, 18509768.0, 35992764.0, 56120984.0, -7590173.5, 35552668.0, 6686257.0, 19103208.0, 18597806.0, 26612888.0]\n",
      "scores： [5284165.5, -16239064.0, -5251891.0, -4770627.5, 51403648.0, -11091689.0, 22962974.0, -2294142.0, -8887341.0, 10051163.0]\n",
      "groupOutput: ['1', '2', '3', '4']\n",
      "scores： [19387428.0, 21056388.0, 17594008.0, 38876212.0, -14396531.0, 53814368.0, 6472832.0, 424904.84375, 38404572.0, 13220545.0]\n",
      "scores： [31047062.0, 13947853.0, 14646454.0, 11233378.0, 26155246.0, 7104056.5, 62104224.0, -13319168.0, 14253576.0, -4925088.5]\n",
      "scores： [3711577.75, 3161866.5, 17852078.0, 20431394.0, -649165.375, -2520614.0, -14430985.0, 49286696.0, -16792020.0, 13155511.0]\n",
      "scores： [24673860.0, 3357811.25, 27164986.0, 23197236.0, -7112683.0, 36270496.0, 8276913.5, -12539381.0, 49419116.0, 4266720.0]\n",
      "groupOutput: ['5', '6', '7', '8']\n",
      "scores： [30219724.0, -1770123.375, 497980.09375, 22323854.0, 10869970.0, 8695042.0, -2723180.25, 12564706.0, -4314128.0, 60770664.0]\n",
      "scores： [60497356.0, 1452328.125, 34448520.0, 31327738.0, 12722555.0, 11564593.0, 35273016.0, 7656688.5, 10062867.0, 29857338.0]\n",
      "scores： [3673438.5, 56566208.0, 2006193.375, 21624368.0, -17148052.0, 17918516.0, 12853028.0, 5112319.0, 11518306.0, -1578976.375]\n",
      "scores： [64617756.0, 3194756.5, 35060012.0, 32853184.0, 8671221.0, 15749161.0, 34306972.0, 10345016.0, 13156988.0, 32485466.0]\n",
      "groupOutput: ['9', '0', '1', '0']\n"
     ]
    }
   ],
   "source": [
    "# 2.遍历每一个轮廓中的数字\n",
    "output = []\t# 存正确的数字\n",
    "for (i,(gx,gy,gw,gh)) in enumerate(locs):\t# 遍历每一组大轮廓(包含4个数字)\n",
    "\t# initialize the list of group digits\n",
    "\tgroupOutput = []\n",
    "\n",
    "\t# 根据坐标提取每一个组(4个值)\n",
    "\tgroup = gray[gy-5:gy+gh+5, gx-5:gx+gw+5]\t# 往外扩一点\n",
    "\tcv_show('group_'+str(i),group)\n",
    "\t# 2.1 预处理 \n",
    "\tgroup = cv2.threshold(group,0,255,cv2.THRESH_BINARY|cv2.THRESH_OTSU)[1]\t# 二值化的group\n",
    "\t# cv_show('group_'+str(i),group)\n",
    "\t\t# 计算每一组的轮廓 这样就分成4个小轮廓了\n",
    "\tdigitCnts = cv2.findContours(group.copy(),cv2.RETR_EXTERNAL,cv2.CHAIN_APPROX_SIMPLE)[1]\n",
    "\t\t# 排序\n",
    "\tdigitCnts = myutils.sort_contours(digitCnts,method=\"left-to-right\")[0]\n",
    "\n",
    "\t# 2.2 计算并匹配每一组中的每一个数值\n",
    "\tfor c in digitCnts:\t# c表示每个小轮廓的终点坐标\n",
    "\t\tz = 0\n",
    "\t\t# 找到当前数值的轮廓,resize成合适的的大小\n",
    "\t\t(x,y,w,h) = cv2.boundingRect(c)\t# 外接矩形\n",
    "\t\troi = group[y:y+h,x:x+w]\t\t# 在原图中取出小轮廓覆盖区域,即数字\n",
    "\t\troi = cv2.resize(roi, (57, 88))\n",
    "\t\t# cv_show(\"roi_\"+str(z),roi)\n",
    "\t\t\n",
    "\t\t# 计算匹配得分: 0得分多少,1得分多少...\n",
    "\t\tscores = []\t# 单次循环中,scores存的是一个数值 匹配 10个模板数值的最大得分\n",
    "\n",
    "\t\t# 在模板中计算每一个得分\n",
    "\t\t# digits的digit正好是数值0,1,...,9;digitROI是每个数值的特征表示\n",
    "\t\tfor (digit,digitROI) in digits.items():\n",
    "\t\t\t# 进行模板匹配, res是结果矩阵\n",
    "\t\t\tres = cv2.matchTemplate(roi,digitROI,cv2.TM_CCOEFF)\t# 此时roi是X digitROI是0 依次是1,2.. 匹配10次,看模板最高得分多少\n",
    "\t\t\tMax_score = cv2.minMaxLoc(res)[1]\t# 返回4个,取第二个最大值Maxscore\n",
    "\t\t\tscores.append(Max_score)\t# 10个最大值\n",
    "\t\tprint(\"scores：\",scores)\n",
    "\t\t# 得到最合适的数字\n",
    "\t\tgroupOutput.append(str(np.argmax(scores)))\t# 返回的是输入列表中最大值的位置\n",
    "\t\tz = z+1\n",
    "\t# 2.3 画出来\n",
    "\tcv2.rectangle(image,(gx-5,gy-5),(gx+gw+5,gy+gh+5),(0,0,255),1)\t# 左上角,右下角\n",
    "\t# 2.4 putText参数：图片,添加的文字,左上角坐标,字体,字体大小,颜色,字体粗细\n",
    "\tcv2.putText(image,\"\".join(groupOutput),(gx,gy-15),\n",
    "\t\t\t\tcv2.FONT_HERSHEY_SIMPLEX,0.65,(0,0,255),2)\n",
    "\n",
    "\t# 2.5 得到结果\n",
    "\toutput.extend(groupOutput)\n",
    "\tprint(\"groupOutput:\",groupOutput)\n"
   ]
  },
  {
   "cell_type": "code",
   "execution_count": 27,
   "metadata": {},
   "outputs": [],
   "source": [
    "# 3.打印结果\n",
    "# print(\"Credit Card Type: {}\")\n",
    "# print(\"Credit Card #: {}\".format(\"\".join(output)))\n",
    "cv2.imshow(\"Output_image\", image)\n",
    "cv2.waitKey(0)\n",
    "cv2.destroyAllWindows()"
   ]
  },
  {
   "cell_type": "code",
   "execution_count": null,
   "metadata": {},
   "outputs": [],
   "source": []
  },
  {
   "cell_type": "code",
   "execution_count": null,
   "metadata": {},
   "outputs": [],
   "source": []
  },
  {
   "cell_type": "code",
   "execution_count": null,
   "metadata": {},
   "outputs": [],
   "source": []
  }
 ],
 "metadata": {
  "kernelspec": {
   "display_name": "Python 3",
   "language": "python",
   "name": "python3"
  },
  "language_info": {
   "codemirror_mode": {
    "name": "ipython",
    "version": 3
   },
   "file_extension": ".py",
   "mimetype": "text/x-python",
   "name": "python",
   "nbconvert_exporter": "python",
   "pygments_lexer": "ipython3",
   "version": "3.6.5"
  }
 },
 "nbformat": 4,
 "nbformat_minor": 4
}
