{
 "cells": [
  {
   "cell_type": "code",
   "execution_count": null,
   "metadata": {},
   "outputs": [],
   "source": [
    "import cv2\n",
    "import numpy as np\n",
    "import matplotlib.pyplot as plt\n",
    "img=cv2.imread(\"pictures/image.jpg\",1)\n",
    "hist=cv2.calcHist([img],[0],None,[256],[0,255])\n",
    "color=('b','g','r')\n",
    "for i,col in enumerate(color):\n",
    "    histr=cv2.calcHist([img],[int(i)],None,[256],[0,256])\n",
    "    plt.plot(histr,color=col)\n",
    "    plt.xlim([0,256])\n",
    "print(hist)\n",
    "# plt.hist(img.ravel(),256)\n",
    "plt.plot(hist)\n",
    "plt.show()\n"
   ]
  }
 ],
 "metadata": {
  "kernelspec": {
   "display_name": "Python 3",
   "language": "python",
   "name": "python3"
  },
  "language_info": {
   "codemirror_mode": {
    "name": "ipython",
    "version": 3
   },
   "file_extension": ".py",
   "mimetype": "text/x-python",
   "name": "python",
   "nbconvert_exporter": "python",
   "pygments_lexer": "ipython3",
   "version": "3.6.5"
  }
 },
 "nbformat": 4,
 "nbformat_minor": 4
}
