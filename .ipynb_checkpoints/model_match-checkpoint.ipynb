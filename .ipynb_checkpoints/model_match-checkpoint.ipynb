{
 "cells": [
  {
   "cell_type": "code",
   "execution_count": 1,
   "metadata": {},
   "outputs": [
    {
     "name": "stdout",
     "output_type": "stream",
     "text": [
      "(287, 352)\n"
     ]
    }
   ],
   "source": [
    "import cv2\n",
    "cat=cv2.imread(\"pictures/cat.jpg\",1)\n",
    "cat=cv2.cvtColor(cat,cv2.COLOR_BGR2GRAY)\n",
    "img=cat.copy()\n",
    "cutted=cat[13:300,78:430]\n",
    "w,h=cutted.shape[::-1]\n",
    "i=1\n",
    "methods=[\"cv2.TM_CCOEFF\",\"cv2.TM_CCOEFF_NORMED\",\"cv2.TM_CCORR\",\"cv2.TM_CCORR_NORMED\"]\n",
    "print(cutted.shape)\n",
    "for meth in methods:\n",
    "    i=i+2\n",
    "    img2=img.copy()\n",
    "    method=eval(meth)\n",
    "    res=cv2.matchTemplate(img,cutted,method)\n",
    "    min_val,max_val,min_loc,max_loc=cv2.minMaxLoc(res)\n",
    "    if method in [cv2.TM_SQDIFF,cv2.TM_SQDIFF_NORMED]:\n",
    "        top_left=min_loc\n",
    "    else:\n",
    "        top_left=max_loc\n",
    "    bottom_right=(top_left[0]+w,top_left[1]+h)\n",
    "    cv2.rectangle(img,top_left,bottom_right,255,2)\n",
    "    cv2.imshow(meth,img)\n",
    "cv2.waitKey(0)\n",
    "cv2.destroyAllWindows()"
   ]
  },
  {
   "cell_type": "code",
   "execution_count": 5,
   "metadata": {},
   "outputs": [],
   "source": [
    "#自适应直方图均衡化\n",
    "import cv2\n",
    "import numpy as np\n",
    "import matplotlib.pyplot as plt\n",
    "img=cv2.imread(\"pictures/cat.jpg\",0)\n",
    "clahe=cv2.createCLAHE(clipLimit=2.0,tileGridSize=(8,8))\n",
    "res_clahe=clahe.apply(img)\n",
    "res=np.hstack((img,res_clahe))\n",
    "cv2.imshow(\"\",res)\n",
    "cv2.waitKey(0)\n",
    "cv2.destroyAllWindows()\n"
   ]
  },
  {
   "cell_type": "code",
   "execution_count": 4,
   "metadata": {},
   "outputs": [],
   "source": [
    "import cv2\n",
    "import numpy as np\n",
    "import matplotlib.pyplot as plt\n",
    "img=cv2.imread(\"pictures/cat.jpg\",0)\n",
    "equ=cv2.equalizeHist(img)\n",
    "cv2.imshow(\"origin vs equ\",np.hstack((img,equ)))\n",
    "cv2.waitKey(0)\n",
    "cv2.destroyAllWindows()\n"
   ]
  },
  {
   "cell_type": "code",
   "execution_count": null,
   "metadata": {},
   "outputs": [],
   "source": []
  }
 ],
 "metadata": {
  "kernelspec": {
   "display_name": "Python 3",
   "language": "python",
   "name": "python3"
  },
  "language_info": {
   "codemirror_mode": {
    "name": "ipython",
    "version": 3
   },
   "file_extension": ".py",
   "mimetype": "text/x-python",
   "name": "python",
   "nbconvert_exporter": "python",
   "pygments_lexer": "ipython3",
   "version": "3.6.5"
  }
 },
 "nbformat": 4,
 "nbformat_minor": 4
}
