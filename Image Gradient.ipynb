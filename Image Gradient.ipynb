{
 "cells": [
  {
   "cell_type": "code",
   "execution_count": 5,
   "metadata": {},
   "outputs": [],
   "source": [
    "#https://www.cnblogs.com/zodiac7/p/9285975.html\n",
    "#不同梯度算子产生的结果 \n",
    "import  cv2\n",
    "import numpy as np\n",
    "img=cv2.imread(\"pictures/lena.jpg\",0)\n",
    "# cv2.imshow(\"1\",img)\n",
    "sobelx=cv2.Sobel(img,cv2.CV_64F,1,0,ksize=3)\n",
    "sobelxx=cv2.convertScaleAbs(sobelx)\n",
    "# cv2.imshow(\"sobelx\",sobelxx)\n",
    "\n",
    "sobely=cv2.Sobel(img,cv2.CV_64F,0,1,ksize=3)\n",
    "sobelyy=cv2.convertScaleAbs(sobely)#取绝对值 下同\n",
    "# cv2.imshow(\"sobely\",sobelyy)\n",
    "sobelxy=cv2.addWeighted(sobelxx,0.5,sobelyy,0.5,0)\n",
    "# cv2.imshow(\"sobelxy\",sobelxy)\n",
    "scharrx=cv2.Scharr(img,cv2.CV_64F,1,0)\n",
    "scharry=cv2.Scharr(img,cv2.CV_64F,0,1)\n",
    "scharrxx=cv2.convertScaleAbs(scharrx)\n",
    "scharryy=cv2.convertScaleAbs(scharry)\n",
    "# cv2.imshow(\"scharrx\",scharrxx)\n",
    "# cv2.imshow(\"scharry\",scharryy)\n",
    "scharrxy=cv2.addWeighted(scharrxx,0.5,scharryy,0.5,0)\n",
    "res=np.hstack((img,sobelxy,scharrxy))\n",
    "cv2.imshow(\"result: img vs sobelxy vs scharrxy\",res)\n",
    "cv2.waitKey(0)\n",
    "cv2.destroyAllWindows()"
   ]
  },
  {
   "cell_type": "code",
   "execution_count": 10,
   "metadata": {},
   "outputs": [],
   "source": [
    "#原始灰度图与中值滤波处理后的对比\n",
    "import  cv2\n",
    "import numpy as np\n",
    "img=cv2.imread(\"pictures/lena.jpg\",0)\n",
    "img=cv2.resize(img,(300,300))\n",
    "sobelx=cv2.Sobel(img,cv2.CV_64F,1,0,ksize=3)\n",
    "sobelxx=cv2.convertScaleAbs(sobelx)\n",
    "def res_img(img):\n",
    "    sobely=cv2.Sobel(img,cv2.CV_64F,0,1,ksize=3)\n",
    "    sobelyy=cv2.convertScaleAbs(sobely)\n",
    "    sobelxy=cv2.addWeighted(sobelxx,0.5,sobelyy,0.5,0)\n",
    "    scharrx=cv2.Scharr(img,cv2.CV_64F,1,0)\n",
    "    scharry=cv2.Scharr(img,cv2.CV_64F,0,1)\n",
    "    scharrxx=cv2.convertScaleAbs(scharrx)\n",
    "    scharryy=cv2.convertScaleAbs(scharry)\n",
    "    scharrxy=cv2.addWeighted(scharrxx,0.5,scharryy,0.5,0)\n",
    "    laplacian=cv2.Laplacian(img,cv2.CV_64F)\n",
    "    laplacian=cv2.convertScaleAbs(laplacian)\n",
    "    res=np.hstack((img,sobelxy,scharrxy,laplacian))\n",
    "    cv2.imshow(\"img,sobelxy,scharrxy,laplacian\",res)\n",
    "def res_median(img):\n",
    "    img=cv2.medianBlur(img,3)\n",
    "    sobely=cv2.Sobel(img,cv2.CV_64F,0,1,ksize=3)\n",
    "    sobelyy=cv2.convertScaleAbs(sobely)\n",
    "    sobelxy=cv2.addWeighted(sobelxx,0.5,sobelyy,0.5,0)\n",
    "    scharrx=cv2.Scharr(img,cv2.CV_64F,1,0)\n",
    "    scharry=cv2.Scharr(img,cv2.CV_64F,0,1)\n",
    "    scharrxx=cv2.convertScaleAbs(scharrx)\n",
    "    scharryy=cv2.convertScaleAbs(scharry)\n",
    "    scharrxy=cv2.addWeighted(scharrxx,0.5,scharryy,0.5,0)\n",
    "    laplacian=cv2.Laplacian(img,cv2.CV_64F)\n",
    "    laplacian=cv2.convertScaleAbs(laplacian)\n",
    "    res=np.hstack((img,sobelxy,scharrxy,laplacian))\n",
    "    cv2.imshow(\"median_img,sobelxy,scharrxy,laplacian\",res)\n",
    "\n",
    "res_median(img)\n",
    "res_img(img)\n",
    "cv2.waitKey(0)\n",
    "cv2.destroyAllWindows()\n"
   ]
  },
  {
   "cell_type": "code",
   "execution_count": 19,
   "metadata": {},
   "outputs": [],
   "source": [
    "#边缘检测  \n",
    "import  cv2\n",
    "import numpy as np\n",
    "img=cv2.imread(\"pictures/Buttler.jpg\",1)\n",
    "img=cv2.resize(img,(300,300))\n",
    "res1=cv2.Canny(img,80,100)\n",
    "res2=cv2.Canny(img,100,200)\n",
    "res=np.hstack((res1,res2))\n",
    "cv2.imshow(\"res1,res2\",res)\n",
    "cv2.waitKey(0)\n",
    "cv2.destroyAllWindows()\n"
   ]
  },
  {
   "cell_type": "code",
   "execution_count": null,
   "metadata": {},
   "outputs": [],
   "source": []
  }
 ],
 "metadata": {
  "kernelspec": {
   "display_name": "Python 3",
   "language": "python",
   "name": "python3"
  },
  "language_info": {
   "codemirror_mode": {
    "name": "ipython",
    "version": 3
   },
   "file_extension": ".py",
   "mimetype": "text/x-python",
   "name": "python",
   "nbconvert_exporter": "python",
   "pygments_lexer": "ipython3",
   "version": "3.6.5"
  }
 },
 "nbformat": 4,
 "nbformat_minor": 4
}
