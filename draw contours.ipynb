{
 "cells": [
  {
   "cell_type": "code",
   "execution_count": 1,
   "metadata": {},
   "outputs": [],
   "source": [
    "#参考博文https://blog.csdn.net/sinat_29950703/article/details/107651267\n",
    "#轮廓绘制\n",
    "import cv2\n",
    "import numpy as np\n",
    "img=cv2.imread(\"pictures/geometry.png\",1)\n",
    "gray=cv2.cvtColor(img,cv2.COLOR_BGR2GRAY)\n",
    "ret,thresh=cv2.threshold(gray,127,255,cv2.THRESH_BINARY)#二值化 提取轮廓\n",
    "binary,contours,hierarchy=cv2.findContours(thresh,cv2.RETR_TREE,cv2.CHAIN_APPROX_NONE)\n",
    "# 需进行copy,因drawContours会在原图上绘制,改变原图\n",
    "draw_img0=img.copy()\n",
    "draw_img1=img.copy()\n",
    "draw_img2=img.copy()\n",
    "# 绘制轮廓\n",
    "all_contours=cv2.drawContours(draw_img0,contours,-1,(0,0,255),2)# -1是指所有的轮廓\n",
    "contours_1=cv2.drawContours(draw_img1,contours,0,(0,255,0,),2)# 检测到的第1个轮廓\n",
    "contours_2=cv2.drawContours(draw_img2,contours,3,(0,255,0,),2)# 检测到的第4个轮廓\n",
    "cv2.imshow(\"all-1-2\",np.hstack((all_contours,contours_1,contours_2)))\n",
    "cv2.waitKey(0)\n",
    "cv2.destroyAllWindows()\n"
   ]
  },
  {
   "cell_type": "code",
   "execution_count": 7,
   "metadata": {},
   "outputs": [],
   "source": [
    "#轮廓近似\n",
    "import cv2\n",
    "import numpy as np\n",
    "img=cv2.imread(\"pictures/geometry.png\",1)\n",
    "gray=cv2.cvtColor(img,cv2.COLOR_BGR2GRAY)#先转化为灰度图 再进行二值化\n",
    "ret,thresh=cv2.threshold(gray,127,255,cv2.THRESH_BINARY)#二值化 提取轮廓\n",
    "binary,contours,hierarchy=cv2.findContours(thresh,cv2.RETR_TREE,cv2.CHAIN_APPROX_NONE)\n",
    "cnt=contours[1]\n",
    "# cv2.approxPolyDP(contour,epsilon,True) 把一条平滑的曲线曲折化\n",
    "# 参数\n",
    "# epsilon：表示的是精度，越小精度越高，因为表示的意思是是原始曲线与近似曲线之间的最大距离\n",
    "# closed：表示输出的多边形是否封闭；true表示封闭，false表示不封闭。\n",
    "epsilon1=0.05*cv2.arcLength(cnt,True)#epsilon用常数*轮廓周长来表示\n",
    "epsilon2=0.1*cv2.arcLength(cnt,True)\n",
    "epsilon3=0.15*cv2.arcLength(cnt,True)\n",
    "approx1=cv2.approxPolyDP(cnt,epsilon1,True)\n",
    "approx2=cv2.approxPolyDP(cnt,epsilon2,True)\n",
    "approx3=cv2.approxPolyDP(cnt,epsilon3,True)\n",
    "draw_img1=img.copy()\n",
    "draw_img2=img.copy()\n",
    "draw_img3=img.copy()\n",
    "# cv2.imshow(\"1\",cnt)\n",
    "approx1_res=cv2.drawContours(draw_img1,[approx1],-1,(0,255,0),2)\n",
    "approx2_res=cv2.drawContours(draw_img2,[approx2],-1,(0,255,0),2)\n",
    "approx3_res=cv2.drawContours(draw_img3,[approx3],-1,(0,255,0),2)\n",
    "cv2.imshow(\"1-2-3\",np.hstack((approx1_res,approx2_res,approx3_res)))\n",
    "cv2.waitKey(0)\n",
    "cv2.destroyAllWindows()"
   ]
  },
  {
   "cell_type": "code",
   "execution_count": 9,
   "metadata": {},
   "outputs": [],
   "source": [
    "\n",
    "img=cv2.imread(\"pictures/geometry.png\")\n",
    "gray=cv2.cvtColor(img,cv2.COLOR_BGR2GRAY)\n",
    "ret,thresh=cv2.threshold(gray,127,255,cv2.THRESH_BINARY)\n",
    "binary,contours,hierarchy=cv2.findContours(thresh,cv2.RETR_TREE,cv2.CHAIN_APPROX_NONE)\n",
    "def rec(img,array):\n",
    "    for i in array:\n",
    "        x, y, w, h = cv2.boundingRect(i)\n",
    "        img_rec = cv2.rectangle(img, (x, y), (x + w, y + h), (0, 255, 0), 2)\n",
    "        cv2.imshow(\"img_rec\", img_rec)\n",
    "rec(img,contours)\n",
    "cv2.waitKey(0)\n",
    "cv2.destroyAllWindows()"
   ]
  },
  {
   "cell_type": "code",
   "execution_count": 1,
   "metadata": {},
   "outputs": [],
   "source": [
    "import cv2\n",
    "img=cv2.imread(\"pictures/1.jpg\")\n",
    "img=cv2.resize(img,(400,400))\n",
    "gray=cv2.cvtColor(img,cv2.COLOR_BGR2GRAY)\n",
    "ret,thresh=cv2.threshold(gray,127,255,cv2.THRESH_BINARY)\n",
    "binary,contours,hierarchy=cv2.findContours(thresh,cv2.RETR_TREE,cv2.CHAIN_APPROX_NONE)\n",
    "def rec(img,array):\n",
    "    img_rec=img.copy()\n",
    "    for i in array:\n",
    "        x, y, w, h = cv2.boundingRect(i)\n",
    "        img_rec = cv2.rectangle(img_rec, (x, y), (x + w, y + h), (0, 255, 0), 2)\n",
    "        cv2.imshow(\"img_rec\", img_rec)\n",
    "\n",
    "def cir(img,contours):\n",
    "    img_cir=img.copy()\n",
    "    for i in contours:\n",
    "        (x,y),radius=cv2.minEnclosingCircle(i)\n",
    "        img_cir=cv2.circle(img_cir,(int(x),int(y)),int(radius),(0,255,0),2)\n",
    "        cv2.imshow(\"img_cir\",img_cir)\n",
    "        \n",
    "cir(img,contours)\n",
    "rec(img,contours)\n",
    "cv2.imshow(\"origin\",img)\n",
    "cv2.imshow(\"gray\",gray)\n",
    "cv2.imshow(\"thresh\",thresh)\n",
    "cv2.waitKey(0)\n",
    "cv2.destroyAllWindows()\n"
   ]
  },
  {
   "cell_type": "code",
   "execution_count": null,
   "metadata": {},
   "outputs": [],
   "source": []
  }
 ],
 "metadata": {
  "kernelspec": {
   "display_name": "Python 3",
   "language": "python",
   "name": "python3"
  },
  "language_info": {
   "codemirror_mode": {
    "name": "ipython",
    "version": 3
   },
   "file_extension": ".py",
   "mimetype": "text/x-python",
   "name": "python",
   "nbconvert_exporter": "python",
   "pygments_lexer": "ipython3",
   "version": "3.6.5"
  }
 },
 "nbformat": 4,
 "nbformat_minor": 4
}
