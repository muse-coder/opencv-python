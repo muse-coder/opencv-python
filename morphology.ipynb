{
 "cells": [
  {
   "cell_type": "code",
   "execution_count": 1,
   "metadata": {},
   "outputs": [],
   "source": [
    "#开运算 先腐蚀，再膨胀\n",
    "#闭运算 先膨胀，再腐蚀\n",
    "import cv2\n",
    "import numpy as np\n",
    "img=cv2.imread(\"erode2.png\")\n",
    "kernel=np.ones((5,5),np.uint8)\n",
    "opening=cv2.morphologyEx(img,cv2.MORPH_OPEN,kernel)\n",
    "closeing=cv2.morphologyEx(img,cv2.MORPH_CLOSE,kernel)\n",
    "cv2.imshow(\"origin\",img)\n",
    "cv2.imshow(\"open\",opening)\n",
    "cv2.imshow(\"close\",closeing)\n",
    "cv2.waitKey(0)\n",
    "cv2.destroyAllWindows()"
   ]
  },
  {
   "cell_type": "code",
   "execution_count": 2,
   "metadata": {},
   "outputs": [],
   "source": [
    "#梯度运算 膨胀-腐蚀\n",
    "import cv2\n",
    "import numpy as np\n",
    "img=cv2.imread(\"circle.jpg\")\n",
    "kernel=np.ones((5,5),np.uint8)\n",
    "img=cv2.resize(img,(300,300))\n",
    "dilate=cv2.dilate(img,kernel,iterations=3)\n",
    "erode=cv2.erode(img,kernel,iterations=3)\n",
    "gradient=cv2.morphologyEx(img,cv2.MORPH_GRADIENT,kernel)\n",
    "res=np.hstack((img,dilate,erode,gradient))\n",
    "cv2.imshow(\"img-dilate-erode-gradient\",res)\n",
    "cv2.waitKey(0)\n",
    "cv2.destroyAllWindows()\n"
   ]
  },
  {
   "cell_type": "code",
   "execution_count": 4,
   "metadata": {},
   "outputs": [
    {
     "name": "stdout",
     "output_type": "stream",
     "text": [
      "C:\\Users\\93552\\opencv-learn\n"
     ]
    }
   ],
   "source": [
    "import os\n",
    "print(os.path.abspath('.'))"
   ]
  },
  {
   "cell_type": "code",
   "execution_count": null,
   "metadata": {},
   "outputs": [],
   "source": []
  }
 ],
 "metadata": {
  "kernelspec": {
   "display_name": "Python 3",
   "language": "python",
   "name": "python3"
  },
  "language_info": {
   "codemirror_mode": {
    "name": "ipython",
    "version": 3
   },
   "file_extension": ".py",
   "mimetype": "text/x-python",
   "name": "python",
   "nbconvert_exporter": "python",
   "pygments_lexer": "ipython3",
   "version": "3.6.5"
  }
 },
 "nbformat": 4,
 "nbformat_minor": 4
}
